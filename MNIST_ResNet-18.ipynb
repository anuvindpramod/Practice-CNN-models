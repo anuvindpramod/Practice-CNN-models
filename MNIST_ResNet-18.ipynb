{
 "cells": [
  {
   "cell_type": "code",
   "execution_count": 32,
   "metadata": {},
   "outputs": [],
   "source": [
    "import torch\n",
    "import torch.nn as nn\n",
    "import torch.optim as optim\n",
    "import torchvision\n",
    "import torchvision.transforms as transforms\n",
    "from torch.utils.data import DataLoader\n",
    "import matplotlib.pyplot as plt\n",
    "from torchvision  import models"
   ]
  },
  {
   "cell_type": "code",
   "execution_count": 34,
   "metadata": {},
   "outputs": [
    {
     "name": "stdout",
     "output_type": "stream",
     "text": [
      "mps\n"
     ]
    }
   ],
   "source": [
    "device=torch.device('mps' if torch.backends.mps.is_available() else 'cpu')\n",
    "print(device)\n"
   ]
  },
  {
   "cell_type": "code",
   "execution_count": 35,
   "metadata": {},
   "outputs": [],
   "source": [
    "#Augmentation\n",
    "transform = transforms.Compose([\n",
    "\ttransforms.RandomRotation(10),\n",
    "\ttransforms.RandomHorizontalFlip(),\n",
    "\ttransforms.ToTensor(),\n",
    "\ttransforms.Normalize((0.5,), (0.5,))\n",
    "    \n",
    "\n",
    "])"
   ]
  },
  {
   "cell_type": "code",
   "execution_count": 36,
   "metadata": {},
   "outputs": [],
   "source": [
    "train_dataset=torchvision.datasets.FashionMNIST(root='data',download=False,train=True,transform=transform)\n",
    "test_dataset=torchvision.datasets.FashionMNIST(root=\"data\",download=False,train=False,transform=transforms.ToTensor())"
   ]
  },
  {
   "cell_type": "code",
   "execution_count": 37,
   "metadata": {},
   "outputs": [],
   "source": [
    "train_loader=DataLoader(train_dataset,batch_size=64,shuffle=True)\n",
    "test_loader=DataLoader(test_dataset,batch_size=64,shuffle=False)"
   ]
  },
  {
   "cell_type": "code",
   "execution_count": 38,
   "metadata": {},
   "outputs": [],
   "source": [
    "#Loading the Resnet-18 weights\n",
    "model=models.resnet18(weights='ResNet18_Weights.DEFAULT')\n",
    "#Adjusting for input grey scale\n",
    "model.conv1=nn.Conv2d(in_channels=1,out_channels=64,kernel_size=3,stride=1,padding=1,bias=False)\n",
    "model.bn1=nn.BatchNorm2d(64)\n",
    "model.fc=nn.Linear(model.fc.in_features,10)#as there are 10 classes in FashionMNIST\n",
    "model=model.to(device)\n"
   ]
  },
  {
   "cell_type": "code",
   "execution_count": 39,
   "metadata": {},
   "outputs": [],
   "source": [
    "#loss\n",
    "criterion=nn.CrossEntropyLoss()\n",
    "optimizer=optim.Adam(model.parameters(),lr=0.001)\n"
   ]
  },
  {
   "cell_type": "code",
   "execution_count": 24,
   "metadata": {},
   "outputs": [
    {
     "name": "stdout",
     "output_type": "stream",
     "text": [
      "Epoch: 0, Loss: 0.444078264698418\n",
      "Epoch: 1, Loss: 0.30992521453640864\n",
      "Epoch: 2, Loss: 0.2701185352639603\n",
      "Epoch: 3, Loss: 0.24816758026764082\n",
      "Epoch: 4, Loss: 0.23090379310251552\n",
      "Epoch: 5, Loss: 0.20979964488080696\n",
      "Epoch: 6, Loss: 0.20438229590892665\n",
      "Epoch: 7, Loss: 0.18496168463198998\n",
      "Epoch: 8, Loss: 0.17587674217326427\n",
      "Epoch: 9, Loss: 0.1695203005091976\n"
     ]
    }
   ],
   "source": [
    "#Training loop\n",
    "num_epochs=10\n",
    "for epoch in range(num_epochs):\n",
    "    model.train()\n",
    "    total_loss=0\n",
    "    for images, labels in train_loader:\n",
    "        images,labels=images.to(device),labels.to(device)\n",
    "\n",
    "        optimizer.zero_grad()\n",
    "        outputs=model(images)\n",
    "        loss=criterion(outputs,labels)\n",
    "        loss.backward()\n",
    "        optimizer.step()\n",
    "\n",
    "        total_loss+=loss.item()\n",
    "\n",
    "    print(f\"Epoch: {epoch}, Loss: {total_loss/len(train_loader)}\")"
   ]
  },
  {
   "cell_type": "code",
   "execution_count": 26,
   "metadata": {},
   "outputs": [
    {
     "name": "stdout",
     "output_type": "stream",
     "text": [
      "mps\n"
     ]
    }
   ],
   "source": [
    "print(device)"
   ]
  },
  {
   "cell_type": "code",
   "execution_count": 25,
   "metadata": {},
   "outputs": [
    {
     "name": "stdout",
     "output_type": "stream",
     "text": [
      "Accuracy: 63.28\n"
     ]
    }
   ],
   "source": [
    "#Testing loop\n",
    "model.eval()\n",
    "correct=0\n",
    "total=0\n",
    "\n",
    "with torch.no_grad():\n",
    "    for images, labels in test_loader:\n",
    "        images,labels=images.to(device),labels.to(device)\n",
    "        outputs=model(images)\n",
    "        _,predicted=torch.max(outputs.data,1)\n",
    "        total+=labels.size(0)\n",
    "        correct+=(predicted==labels).sum().item()\n",
    "accuracy=correct*100/total\n",
    "print(f\"Accuracy: {accuracy}\")"
   ]
  },
  {
   "cell_type": "code",
   "execution_count": null,
   "metadata": {},
   "outputs": [],
   "source": [
    "#Training loop with realtime plotting \n",
    "num_epochs=10\n",
    "train_losses=[]\n",
    "test_accuracy=[]\n",
    "plt.ion()\n",
    "fig, (ax1,ax2)=plt.subplots(1,2,figsize=(10,5))\n",
    "for epoch in range(num_epochs):\n",
    "    model.train()\n",
    "    total_loss=0\n",
    "    for images, labels in train_loader:\n",
    "        images,labels=images.to(device),labels.to(device)\n",
    "\n",
    "        optimizer.zero_grad()\n",
    "        outputs=model(images)\n",
    "        loss=criterion(outputs,labels)\n",
    "        loss.backward()\n",
    "        optimizer.step()\n",
    "\n",
    "        total_loss+=loss.item()\n",
    "\n",
    "avg_loss=total_loss/len(train_loader)\n",
    "train_losses.append(avg_loss)\n",
    "print(f\"Epoch: {epoch+1/{num_epochs}}, Loss: {avg_loss:}\")\n",
    "\n",
    "# Evaluate on test set\n",
    "model.eval()\n",
    "correct = 0\n",
    "total = 0\n",
    "with torch.no_grad():\n",
    "        for images, labels in test_loader:\n",
    "            images, labels = images.to(device), labels.to(device)\n",
    "            outputs = model(images)\n",
    "            _, predicted = torch.max(outputs, 1)\n",
    "            total += labels.size(0)\n",
    "            correct += (predicted == labels).sum().item()\n",
    "accuracy = correct * 100 / total\n",
    "test_accuracy.append(accuracy)\n",
    "print(f\"Accuracy: {accuracy}\")\n",
    "\n",
    "# Plotting\n",
    "ax1.clear()\n",
    "ax1.plot(range(1, epoch + 2), train_losses, marker='o', linestyle='-', label='Train Loss')\n",
    "ax1.set_xlabel('Epochs')\n",
    "ax1.set_ylabel('Loss')\n",
    "ax1.set_title('Training Loss per Epoch')\n",
    "ax1.legend()\n",
    "\n",
    "ax2.clear()\n",
    "ax2.plot(range(1, epoch + 2),test_accuracy, marker='o', linestyle='-', color='red', label='Test Accuracy')\n",
    "ax2.set_xlabel('Epochs')\n",
    "ax2.set_ylabel('Accuracy (%)')\n",
    "ax2.set_title('Test Accuracy per Epoch')\n",
    "ax2.legend()\n",
    "\n",
    "plt.pause(0.1)\n",
    "plt.ioff()\n",
    "plt.show()\n",
    "\n"
   ]
  }
 ],
 "metadata": {
  "kernelspec": {
   "display_name": "MAM1",
   "language": "python",
   "name": "python3"
  },
  "language_info": {
   "codemirror_mode": {
    "name": "ipython",
    "version": 3
   },
   "file_extension": ".py",
   "mimetype": "text/x-python",
   "name": "python",
   "nbconvert_exporter": "python",
   "pygments_lexer": "ipython3",
   "version": "3.12.4"
  }
 },
 "nbformat": 4,
 "nbformat_minor": 2
}
