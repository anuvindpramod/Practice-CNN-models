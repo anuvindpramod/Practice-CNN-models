{
 "cells": [
  {
   "cell_type": "code",
   "execution_count": 187,
   "metadata": {},
   "outputs": [],
   "source": [
    "import torch\n",
    "import pandas as pd\n",
    "import numpy as np\n",
    "import matplotlib.pyplot as plt\n",
    "from torch.utils.data import Dataset, DataLoader\n",
    "import math\n",
    "from torchvision import datasets, transforms\n",
    "import torch.nn as nn\n",
    "import torch.optim as optim"
   ]
  },
  {
   "cell_type": "code",
   "execution_count": 188,
   "metadata": {},
   "outputs": [
    {
     "name": "stdout",
     "output_type": "stream",
     "text": [
      "tensor(3.1416)\n"
     ]
    }
   ],
   "source": [
    "#Intro to tensors\n",
    " #Scalar\n",
    "\n",
    "scarlar=torch.tensor(3.14159)\n",
    "print(scarlar)"
   ]
  },
  {
   "cell_type": "code",
   "execution_count": 189,
   "metadata": {},
   "outputs": [],
   "source": [
    "tensor=torch.tensor([[[[1,2,3,4,5],\n",
    "                    [6,7,8,9,10],\n",
    "                    [11,12,13,14,15],\n",
    "                    [16,17,18,19,20]]]])"
   ]
  },
  {
   "cell_type": "code",
   "execution_count": 190,
   "metadata": {},
   "outputs": [
    {
     "data": {
      "text/plain": [
       "torch.Size([1, 1, 4, 5])"
      ]
     },
     "execution_count": 190,
     "metadata": {},
     "output_type": "execute_result"
    }
   ],
   "source": [
    "tensor.shape\n"
   ]
  },
  {
   "cell_type": "code",
   "execution_count": 191,
   "metadata": {},
   "outputs": [
    {
     "data": {
      "text/plain": [
       "4"
      ]
     },
     "execution_count": 191,
     "metadata": {},
     "output_type": "execute_result"
    }
   ],
   "source": [
    "tensor.ndim"
   ]
  },
  {
   "cell_type": "code",
   "execution_count": 192,
   "metadata": {},
   "outputs": [
    {
     "data": {
      "text/plain": [
       "tensor([[[ 1,  2,  3,  4,  5],\n",
       "         [ 6,  7,  8,  9, 10],\n",
       "         [11, 12, 13, 14, 15],\n",
       "         [16, 17, 18, 19, 20]]])"
      ]
     },
     "execution_count": 192,
     "metadata": {},
     "output_type": "execute_result"
    }
   ],
   "source": [
    "tensor[0]"
   ]
  },
  {
   "cell_type": "code",
   "execution_count": 193,
   "metadata": {},
   "outputs": [
    {
     "data": {
      "text/plain": [
       "tensor([[ 1,  2,  3,  4,  5],\n",
       "        [ 6,  7,  8,  9, 10],\n",
       "        [11, 12, 13, 14, 15],\n",
       "        [16, 17, 18, 19, 20]])"
      ]
     },
     "execution_count": 193,
     "metadata": {},
     "output_type": "execute_result"
    }
   ],
   "source": [
    "tensor[0][0]"
   ]
  },
  {
   "cell_type": "code",
   "execution_count": 194,
   "metadata": {},
   "outputs": [
    {
     "name": "stdout",
     "output_type": "stream",
     "text": [
      "tensor([[[[[0.8795, 0.2857, 0.6579, 0.4916, 0.2889],\n",
      "           [0.8342, 0.6775, 0.1637, 0.9677, 0.5497],\n",
      "           [0.1124, 0.3233, 0.8833, 0.5347, 0.8773]],\n",
      "\n",
      "          [[0.9514, 0.5815, 0.7092, 0.5889, 0.5323],\n",
      "           [0.5329, 0.2939, 0.3768, 0.3083, 0.8771],\n",
      "           [0.6193, 0.2164, 0.0200, 0.3221, 0.6998]],\n",
      "\n",
      "          [[0.3727, 0.4146, 0.5563, 0.3940, 0.9230],\n",
      "           [0.7463, 0.8128, 0.7668, 0.7452, 0.8311],\n",
      "           [0.9520, 0.2017, 0.3126, 0.5540, 0.4446]],\n",
      "\n",
      "          [[0.0734, 0.1561, 0.9597, 0.2019, 0.9887],\n",
      "           [0.9729, 0.7576, 0.2173, 0.7348, 0.8069],\n",
      "           [0.7634, 0.8325, 0.3101, 0.6953, 0.9463]],\n",
      "\n",
      "          [[0.4761, 0.0285, 0.2123, 0.5856, 0.8692],\n",
      "           [0.8447, 0.0717, 0.0768, 0.8525, 0.4974],\n",
      "           [0.4956, 0.4072, 0.9282, 0.2049, 0.5577]]],\n",
      "\n",
      "\n",
      "         [[[0.6760, 0.0477, 0.7479, 0.7462, 0.6997],\n",
      "           [0.2236, 0.2837, 0.8312, 0.5091, 0.8529],\n",
      "           [0.4863, 0.3273, 0.3586, 0.5769, 0.5086]],\n",
      "\n",
      "          [[0.2913, 0.0953, 0.8087, 0.7092, 0.1426],\n",
      "           [0.4706, 0.9031, 0.2772, 0.3403, 0.5762],\n",
      "           [0.2732, 0.5857, 0.5021, 0.1803, 0.7668]],\n",
      "\n",
      "          [[0.8367, 0.1344, 0.8015, 0.1758, 0.2895],\n",
      "           [0.2340, 0.7539, 0.9289, 0.8194, 0.8281],\n",
      "           [0.5978, 0.8331, 0.5423, 0.6129, 0.2308]],\n",
      "\n",
      "          [[0.8446, 0.0059, 0.6722, 0.5778, 0.4385],\n",
      "           [0.2063, 0.1942, 0.1007, 0.8327, 0.0334],\n",
      "           [0.1918, 0.3604, 0.3999, 0.6744, 0.4944]],\n",
      "\n",
      "          [[0.7785, 0.9790, 0.5559, 0.6234, 0.2253],\n",
      "           [0.0627, 0.3617, 0.7066, 0.7074, 0.2735],\n",
      "           [0.8113, 0.6205, 0.8450, 0.2380, 0.1451]]],\n",
      "\n",
      "\n",
      "         [[[0.8568, 0.1939, 0.3108, 0.7302, 0.4319],\n",
      "           [0.9653, 0.4637, 0.7586, 0.9861, 0.2800],\n",
      "           [0.0840, 0.8840, 0.2324, 0.2804, 0.1777]],\n",
      "\n",
      "          [[0.8488, 0.0546, 0.3511, 0.3232, 0.2500],\n",
      "           [0.2520, 0.0574, 0.6773, 0.1135, 0.5607],\n",
      "           [0.2746, 0.2227, 0.1964, 0.1919, 0.3859]],\n",
      "\n",
      "          [[0.2180, 0.6785, 0.5033, 0.0805, 0.6944],\n",
      "           [0.3494, 0.2093, 0.7335, 0.5789, 0.1454],\n",
      "           [0.2619, 0.2028, 0.3407, 0.4137, 0.6340]],\n",
      "\n",
      "          [[0.6091, 0.2855, 0.4813, 0.7089, 0.1892],\n",
      "           [0.9137, 0.8097, 0.1566, 0.1033, 0.0749],\n",
      "           [0.8505, 0.5865, 0.5926, 0.1726, 0.4837]],\n",
      "\n",
      "          [[0.4213, 0.6676, 0.4819, 0.7722, 0.7724],\n",
      "           [0.0066, 0.9237, 0.8710, 0.3590, 0.6022],\n",
      "           [0.6805, 0.3228, 0.8042, 0.6086, 0.5964]]]],\n",
      "\n",
      "\n",
      "\n",
      "        [[[[0.7055, 0.7706, 0.9229, 0.7487, 0.0142],\n",
      "           [0.9015, 0.9400, 0.2600, 0.7551, 0.5289],\n",
      "           [0.0123, 0.4278, 0.2297, 0.0225, 0.3558]],\n",
      "\n",
      "          [[0.4449, 0.9760, 0.1311, 0.3996, 0.8866],\n",
      "           [0.6192, 0.9594, 0.2566, 0.7698, 0.4108],\n",
      "           [0.5775, 0.4307, 0.4169, 0.6968, 0.4839]],\n",
      "\n",
      "          [[0.8025, 0.1457, 0.8053, 0.1531, 0.6676],\n",
      "           [0.3175, 0.1491, 0.7863, 0.4809, 0.1251],\n",
      "           [0.2919, 0.3832, 0.8721, 0.1509, 0.9380]],\n",
      "\n",
      "          [[0.1282, 0.3972, 0.7862, 0.8370, 0.3708],\n",
      "           [0.8962, 0.3334, 0.8543, 0.2191, 0.6446],\n",
      "           [0.7347, 0.1046, 0.4870, 0.2513, 0.4105]],\n",
      "\n",
      "          [[0.3182, 0.6849, 0.1026, 0.5143, 0.8242],\n",
      "           [0.4879, 0.8210, 0.3039, 0.7137, 0.7363],\n",
      "           [0.1355, 0.1539, 0.2775, 0.7600, 0.1210]]],\n",
      "\n",
      "\n",
      "         [[[0.6370, 0.8865, 0.5066, 0.0900, 0.1176],\n",
      "           [0.9132, 0.1866, 0.6135, 0.9143, 0.3092],\n",
      "           [0.5716, 0.2786, 0.8284, 0.8380, 0.9545]],\n",
      "\n",
      "          [[0.7099, 0.1533, 0.7256, 0.1287, 0.0440],\n",
      "           [0.4927, 0.4124, 0.1371, 0.0878, 0.0946],\n",
      "           [0.9873, 0.1821, 0.6033, 0.9594, 0.4430]],\n",
      "\n",
      "          [[0.8650, 0.1880, 0.9205, 0.8483, 0.7192],\n",
      "           [0.7557, 0.7902, 0.6024, 0.6240, 0.5025],\n",
      "           [0.3807, 0.6358, 0.5659, 0.7150, 0.5099]],\n",
      "\n",
      "          [[0.6109, 0.3398, 0.5539, 0.4329, 0.7838],\n",
      "           [0.0776, 0.9213, 0.0838, 0.7047, 0.8099],\n",
      "           [0.3405, 0.0749, 0.5259, 0.3527, 0.1116]],\n",
      "\n",
      "          [[0.1952, 0.7378, 0.2099, 0.1899, 0.8316],\n",
      "           [0.1719, 0.7934, 0.7832, 0.4505, 0.5134],\n",
      "           [0.2459, 0.2155, 0.8623, 0.8791, 0.3604]]],\n",
      "\n",
      "\n",
      "         [[[0.0024, 0.4033, 0.2525, 0.4938, 0.4875],\n",
      "           [0.2667, 0.2797, 0.0569, 0.1123, 0.4537],\n",
      "           [0.4045, 0.9637, 0.3537, 0.2169, 0.0816]],\n",
      "\n",
      "          [[0.9445, 0.1521, 0.5659, 0.2676, 0.6301],\n",
      "           [0.4359, 0.8795, 0.4612, 0.7834, 0.2236],\n",
      "           [0.5931, 0.6277, 0.8092, 0.1791, 0.5117]],\n",
      "\n",
      "          [[0.0541, 0.3302, 0.8820, 0.8242, 0.0999],\n",
      "           [0.7291, 0.8515, 0.4519, 0.2595, 0.2774],\n",
      "           [0.3676, 0.4140, 0.0410, 0.2523, 0.0730]],\n",
      "\n",
      "          [[0.4553, 0.9484, 0.4784, 0.2869, 0.5125],\n",
      "           [0.2275, 0.2262, 0.3296, 0.4741, 0.6898],\n",
      "           [0.1977, 0.0832, 0.7484, 0.3245, 0.9607]],\n",
      "\n",
      "          [[0.1056, 0.9367, 0.1123, 0.2856, 0.8061],\n",
      "           [0.3411, 0.8266, 0.2680, 0.4187, 0.1635],\n",
      "           [0.4784, 0.5762, 0.5988, 0.5712, 0.3675]]]],\n",
      "\n",
      "\n",
      "\n",
      "        [[[[0.7207, 0.4277, 0.2087, 0.3297, 0.4010],\n",
      "           [0.8912, 0.9166, 0.0563, 0.0709, 0.9541],\n",
      "           [0.7898, 0.4596, 0.0262, 0.7882, 0.8216]],\n",
      "\n",
      "          [[0.8493, 0.1224, 0.5610, 0.6822, 0.6592],\n",
      "           [0.0066, 0.6156, 0.2618, 0.1218, 0.6876],\n",
      "           [0.3359, 0.6515, 0.6943, 0.5790, 0.6452]],\n",
      "\n",
      "          [[0.4344, 0.9778, 0.2892, 0.4678, 0.5782],\n",
      "           [0.2286, 0.8291, 0.8680, 0.0216, 0.8510],\n",
      "           [0.0297, 0.9288, 0.3164, 0.4669, 0.9557]],\n",
      "\n",
      "          [[0.8396, 0.3593, 0.9105, 0.3728, 0.5776],\n",
      "           [0.1562, 0.6302, 0.9476, 0.2382, 0.9299],\n",
      "           [0.8023, 0.9392, 0.2871, 0.0717, 0.7530]],\n",
      "\n",
      "          [[0.9123, 0.5562, 0.9027, 0.1522, 0.9439],\n",
      "           [0.6563, 0.7610, 0.8466, 0.7806, 0.1106],\n",
      "           [0.8959, 0.0365, 0.1987, 0.4612, 0.4723]]],\n",
      "\n",
      "\n",
      "         [[[0.6573, 0.2467, 0.9712, 0.6536, 0.1719],\n",
      "           [0.4205, 0.3795, 0.8499, 0.8046, 0.3225],\n",
      "           [0.9853, 0.7434, 0.7425, 0.5705, 0.7285]],\n",
      "\n",
      "          [[0.1156, 0.6448, 0.4590, 0.3080, 0.4142],\n",
      "           [0.7959, 0.8428, 0.4706, 0.0717, 0.7950],\n",
      "           [0.2590, 0.9543, 0.6780, 0.6346, 0.1193]],\n",
      "\n",
      "          [[0.6409, 0.1652, 0.8889, 0.9341, 0.8138],\n",
      "           [0.8372, 0.4256, 0.6038, 0.9838, 0.0624],\n",
      "           [0.7400, 0.4732, 0.4469, 0.1210, 0.8277]],\n",
      "\n",
      "          [[0.3710, 0.8686, 0.2772, 0.5058, 0.4568],\n",
      "           [0.1097, 0.5408, 0.7135, 0.6133, 0.7658],\n",
      "           [0.2665, 0.9944, 0.3569, 0.4810, 0.5484]],\n",
      "\n",
      "          [[0.6209, 0.9163, 0.4572, 0.1861, 0.6000],\n",
      "           [0.3434, 0.4746, 0.8925, 0.1421, 0.3787],\n",
      "           [0.6374, 0.4566, 0.4896, 0.4086, 0.9992]]],\n",
      "\n",
      "\n",
      "         [[[0.5617, 0.6854, 0.9258, 0.3529, 0.3149],\n",
      "           [0.9620, 0.0563, 0.3187, 0.7110, 0.2703],\n",
      "           [0.8916, 0.1647, 0.5490, 0.8441, 0.8220]],\n",
      "\n",
      "          [[0.2367, 0.0774, 0.5531, 0.2903, 0.2801],\n",
      "           [0.6464, 0.5146, 0.6741, 0.2085, 0.6505],\n",
      "           [0.1038, 0.3860, 0.1614, 0.7607, 0.6802]],\n",
      "\n",
      "          [[0.6261, 0.3266, 0.8314, 0.9666, 0.5387],\n",
      "           [0.3819, 0.3601, 0.2135, 0.4852, 0.4845],\n",
      "           [0.3653, 0.5235, 0.1977, 0.0196, 0.6694]],\n",
      "\n",
      "          [[0.7370, 0.5655, 0.7800, 0.6071, 0.2861],\n",
      "           [0.1398, 0.8227, 0.7123, 0.4570, 0.6889],\n",
      "           [0.0409, 0.0806, 0.7400, 0.9819, 0.3769]],\n",
      "\n",
      "          [[0.8169, 0.2905, 0.7399, 0.4376, 0.6027],\n",
      "           [0.9311, 0.6968, 0.9717, 0.8009, 0.0950],\n",
      "           [0.6687, 0.9298, 0.6820, 0.5383, 0.5841]]]],\n",
      "\n",
      "\n",
      "\n",
      "        [[[[0.9638, 0.1022, 0.7962, 0.2686, 0.2403],\n",
      "           [0.9300, 0.5025, 0.4530, 0.4560, 0.8791],\n",
      "           [0.7134, 0.7128, 0.0977, 0.3815, 0.0288]],\n",
      "\n",
      "          [[0.3924, 0.8831, 0.5043, 0.3958, 0.4107],\n",
      "           [0.1392, 0.0483, 0.8437, 0.1279, 0.0693],\n",
      "           [0.2705, 0.2543, 0.5310, 0.6013, 0.9941]],\n",
      "\n",
      "          [[0.1674, 0.2341, 0.7188, 0.3121, 0.9507],\n",
      "           [0.2212, 0.7223, 0.6379, 0.7714, 0.2482],\n",
      "           [0.5361, 0.5091, 0.6513, 0.7093, 0.7216]],\n",
      "\n",
      "          [[0.6760, 0.3090, 0.7780, 0.3942, 0.2578],\n",
      "           [0.8416, 0.6242, 0.9533, 0.4065, 0.7791],\n",
      "           [0.0024, 0.8399, 0.9140, 0.7519, 0.4062]],\n",
      "\n",
      "          [[0.4042, 0.5873, 0.8835, 0.6700, 0.8635],\n",
      "           [0.2137, 0.4224, 0.3713, 0.2740, 0.7745],\n",
      "           [0.1066, 0.4987, 0.3784, 0.5393, 0.3696]]],\n",
      "\n",
      "\n",
      "         [[[0.3922, 0.9861, 0.4047, 0.2285, 0.7715],\n",
      "           [0.9153, 0.5959, 0.9382, 0.4874, 0.4177],\n",
      "           [0.0837, 0.3389, 0.1926, 0.5914, 0.7119]],\n",
      "\n",
      "          [[0.5638, 0.1079, 0.1154, 0.2174, 0.6774],\n",
      "           [0.1029, 0.7274, 0.4390, 0.7259, 0.2141],\n",
      "           [0.7325, 0.0329, 0.9568, 0.8486, 0.9207]],\n",
      "\n",
      "          [[0.9070, 0.2186, 0.3880, 0.8379, 0.5829],\n",
      "           [0.1616, 0.1691, 0.9949, 0.5455, 0.0747],\n",
      "           [0.0011, 0.4289, 0.5386, 0.4162, 0.7563]],\n",
      "\n",
      "          [[0.4035, 0.3320, 0.9286, 0.9640, 0.3514],\n",
      "           [0.1579, 0.7411, 0.8569, 0.7892, 0.2008],\n",
      "           [0.7141, 0.0079, 0.9546, 0.5359, 0.3181]],\n",
      "\n",
      "          [[0.1541, 0.0234, 0.7322, 0.6555, 0.5457],\n",
      "           [0.6046, 0.6611, 0.0588, 0.0828, 0.2514],\n",
      "           [0.2492, 0.3649, 0.8874, 0.9470, 0.0335]]],\n",
      "\n",
      "\n",
      "         [[[0.8084, 0.5104, 0.7499, 0.3043, 0.6284],\n",
      "           [0.3218, 0.6941, 0.3250, 0.6473, 0.9763],\n",
      "           [0.5962, 0.8287, 0.6481, 0.5567, 0.7357]],\n",
      "\n",
      "          [[0.8904, 0.5564, 0.7271, 0.1243, 0.6351],\n",
      "           [0.8967, 0.7957, 0.9472, 0.8917, 0.9647],\n",
      "           [0.4695, 0.7681, 0.3196, 0.7911, 0.9616]],\n",
      "\n",
      "          [[0.7527, 0.0477, 0.1281, 0.5458, 0.3017],\n",
      "           [0.1025, 0.1701, 0.5563, 0.9534, 0.7396],\n",
      "           [0.4489, 0.4291, 0.6385, 0.6859, 0.9294]],\n",
      "\n",
      "          [[0.8403, 0.6776, 0.1330, 0.9504, 0.5510],\n",
      "           [0.2419, 0.5103, 0.2007, 0.8837, 0.3669],\n",
      "           [0.4177, 0.3795, 0.0496, 0.9087, 0.0029]],\n",
      "\n",
      "          [[0.0026, 0.5505, 0.3314, 0.0147, 0.9419],\n",
      "           [0.8309, 0.2967, 0.2893, 0.8155, 0.7410],\n",
      "           [0.3885, 0.2256, 0.3155, 0.1406, 0.1862]]]]])\n"
     ]
    }
   ],
   "source": [
    "#Random tensors\n",
    "#Imp for weight initialization\n",
    "random_tensor=torch.rand(4,3,5,3,5)\n",
    "print(random_tensor)\n"
   ]
  },
  {
   "cell_type": "code",
   "execution_count": 195,
   "metadata": {},
   "outputs": [
    {
     "data": {
      "text/plain": [
       "(torch.Size([224, 224, 3]), 5)"
      ]
     },
     "execution_count": 195,
     "metadata": {},
     "output_type": "execute_result"
    }
   ],
   "source": [
    "#We can code the image using tensors as\n",
    "random_tensor_image=torch.rand(size=(224,224,3))\n",
    "random_tensor_image.shape,random_tensor.ndim\n",
    "\n"
   ]
  },
  {
   "cell_type": "code",
   "execution_count": 196,
   "metadata": {},
   "outputs": [
    {
     "name": "stdout",
     "output_type": "stream",
     "text": [
      "tensor([[[0.7418, 0.6629, 0.3956],\n",
      "         [0.5053, 0.4681, 0.3318],\n",
      "         [0.9773, 0.4175, 0.4057],\n",
      "         ...,\n",
      "         [0.9491, 0.2367, 0.0604],\n",
      "         [0.0767, 0.5123, 0.0976],\n",
      "         [0.1119, 0.4916, 0.8601]],\n",
      "\n",
      "        [[0.8814, 0.5479, 0.2706],\n",
      "         [0.0690, 0.5867, 0.7717],\n",
      "         [0.1355, 0.1329, 0.9137],\n",
      "         ...,\n",
      "         [0.9200, 0.9111, 0.8375],\n",
      "         [0.8889, 0.6658, 0.7321],\n",
      "         [0.2938, 0.3800, 0.5204]],\n",
      "\n",
      "        [[0.7225, 0.6545, 0.8592],\n",
      "         [0.0623, 0.5659, 0.4233],\n",
      "         [0.5635, 0.4541, 0.7878],\n",
      "         ...,\n",
      "         [0.4037, 0.6096, 0.3305],\n",
      "         [0.5223, 0.0308, 0.2383],\n",
      "         [0.4278, 0.0595, 0.6826]],\n",
      "\n",
      "        ...,\n",
      "\n",
      "        [[0.9130, 0.1360, 0.1989],\n",
      "         [0.5433, 0.8784, 0.0430],\n",
      "         [0.4804, 0.1694, 0.8603],\n",
      "         ...,\n",
      "         [0.7130, 0.9394, 0.7229],\n",
      "         [0.1905, 0.8405, 0.7306],\n",
      "         [0.5425, 0.3425, 0.4803]],\n",
      "\n",
      "        [[0.0663, 0.0971, 0.5048],\n",
      "         [0.7034, 0.8957, 0.5537],\n",
      "         [0.8276, 0.0348, 0.5388],\n",
      "         ...,\n",
      "         [0.4115, 0.4196, 0.2190],\n",
      "         [0.1267, 0.5212, 0.2874],\n",
      "         [0.9970, 0.7390, 0.7577]],\n",
      "\n",
      "        [[0.2600, 0.3196, 0.5364],\n",
      "         [0.5798, 0.6124, 0.3955],\n",
      "         [0.6279, 0.6009, 0.8626],\n",
      "         ...,\n",
      "         [0.0238, 0.9050, 0.9100],\n",
      "         [0.0694, 0.0973, 0.6485],\n",
      "         [0.0980, 0.1975, 0.8495]]])\n"
     ]
    }
   ],
   "source": [
    "print(random_tensor_image)"
   ]
  },
  {
   "cell_type": "code",
   "execution_count": 197,
   "metadata": {},
   "outputs": [],
   "source": [
    "#Curetaing tensor of zeros\n",
    "zero_tensor=torch.zeros(3,3)\n",
    "ones_tensor=torch.ones(3,3)\n"
   ]
  },
  {
   "cell_type": "code",
   "execution_count": 198,
   "metadata": {},
   "outputs": [],
   "source": [
    "#Range of creating tensors\n",
    "\n",
    "range_tensor=torch.arange(0,10,step=2)"
   ]
  },
  {
   "cell_type": "code",
   "execution_count": 199,
   "metadata": {},
   "outputs": [
    {
     "name": "stdout",
     "output_type": "stream",
     "text": [
      "tensor([0, 0, 0, 0, 0])\n"
     ]
    }
   ],
   "source": [
    " #creating zeros like\n",
    "tensor_zeros=torch.zeros_like(range_tensor)\n",
    "print(tensor_zeros)"
   ]
  },
  {
   "cell_type": "code",
   "execution_count": 200,
   "metadata": {},
   "outputs": [
    {
     "name": "stdout",
     "output_type": "stream",
     "text": [
      "Toyota Engine started\n",
      "Engine stopped\n"
     ]
    },
    {
     "data": {
      "text/plain": [
       "314.1592653589793"
      ]
     },
     "execution_count": 200,
     "metadata": {},
     "output_type": "execute_result"
    }
   ],
   "source": [
    "#Class implemetaion in python\n",
    "class Car:\n",
    "    make='Toyota'\n",
    "    model='Corolla'\n",
    "    year=2015\n",
    "\n",
    "    def __init__(self, make, model, year):\n",
    "        self.make = make\n",
    "        self.model = model\n",
    "        self.year = year\n",
    "\n",
    "    def start_engine(self):\n",
    "        print(f'{self.make} Engine started')\n",
    "    def stop_engine(self):\n",
    "        print('Engine stopped')\n",
    "\n",
    "\n",
    "car1=Car('Toyota','Corolla',2015)\n",
    "car1.start_engine()\n",
    "car1.stop_engine()\n",
    "\n",
    "\n",
    "class rectangle:\n",
    "    def __init__(self,length,breadth):\n",
    "        self.lenghth=length\n",
    "        self.breadth=breadth\n",
    "    \n",
    "    def area(self):\n",
    "        area=self.lenghth*self.breadth\n",
    "        return area\n",
    "    \n",
    "    def perimeter(self):\n",
    "        perimeter=2*(self.lenghth+self.breadth)\n",
    "        return perimeter    \n",
    "    \n",
    "rect1=rectangle(10,20)\n",
    "rect1.area()\n",
    "#\n",
    "# inheritance\n",
    "class shape:\n",
    "    def area(self):\n",
    "        return 0\n",
    "class circle(shape):\n",
    "    def __init__(self,radius):\n",
    "        self.radius=radius\n",
    "    def area(self):\n",
    "        return math.pi*self.radius**2\n",
    "    \n",
    "\n",
    "circle1=circle(10)\n",
    "circle1.area()\n",
    "\n",
    "\n",
    "\n"
   ]
  },
  {
   "cell_type": "code",
   "execution_count": 201,
   "metadata": {},
   "outputs": [
    {
     "name": "stdout",
     "output_type": "stream",
     "text": [
      "Data: \n",
      " tensor([[[-1.2948e+00,  2.0401e-01,  2.2722e-01,  5.1880e-01,  5.6685e-01],\n",
      "         [ 6.1449e-01,  2.4376e-02, -2.0631e+00, -1.4060e+00, -5.3282e-01],\n",
      "         [ 3.9520e-01, -2.4509e+00,  1.5335e+00, -9.9195e-01,  6.2771e-01]],\n",
      "\n",
      "        [[ 8.4073e-01,  8.9575e-01,  1.5907e+00, -4.7335e-01, -3.9519e-02],\n",
      "         [-2.8167e-01, -2.8874e+00, -5.7047e-02,  1.3757e+00, -1.5111e-01],\n",
      "         [-1.2844e+00,  9.9186e-01,  1.9388e+00, -6.9151e-01, -1.1620e+00]],\n",
      "\n",
      "        [[-5.1803e-01, -1.7751e-01, -1.0455e+00, -1.4518e-01, -1.3363e+00],\n",
      "         [ 3.2941e-01, -1.1432e+00, -1.7337e+00, -6.8228e-01, -4.6201e-01],\n",
      "         [ 4.2146e-02,  8.8921e-01,  8.6888e-01, -1.4637e-01,  2.7813e-03]],\n",
      "\n",
      "        [[ 6.9856e-01, -1.2546e+00, -1.8694e-01,  8.9505e-02,  8.4454e-02],\n",
      "         [ 1.7287e-02, -8.8820e-02,  2.0017e-01,  6.7591e-01, -1.2352e+00],\n",
      "         [ 1.5350e-01, -7.1385e-01,  5.9118e-02,  4.8135e-02,  1.8157e+00]]]) \n",
      "\n",
      "Ones Tensor: \n",
      " tensor([[[1., 1., 1., 1., 1.],\n",
      "         [1., 1., 1., 1., 1.],\n",
      "         [1., 1., 1., 1., 1.]],\n",
      "\n",
      "        [[1., 1., 1., 1., 1.],\n",
      "         [1., 1., 1., 1., 1.],\n",
      "         [1., 1., 1., 1., 1.]],\n",
      "\n",
      "        [[1., 1., 1., 1., 1.],\n",
      "         [1., 1., 1., 1., 1.],\n",
      "         [1., 1., 1., 1., 1.]],\n",
      "\n",
      "        [[1., 1., 1., 1., 1.],\n",
      "         [1., 1., 1., 1., 1.],\n",
      "         [1., 1., 1., 1., 1.]]]) \n",
      "\n",
      "Random Tensor: \n",
      " tensor([[[0.6666, 0.6627, 0.9024, 0.3314, 0.5660],\n",
      "         [0.9539, 0.1830, 0.3020, 0.8115, 0.1583],\n",
      "         [0.1316, 0.9499, 0.9680, 0.5435, 0.6448]],\n",
      "\n",
      "        [[0.9911, 0.4386, 0.4262, 0.6884, 0.8953],\n",
      "         [0.8283, 0.2931, 0.1479, 0.1180, 0.8637],\n",
      "         [0.1806, 0.3262, 0.7385, 0.2570, 0.7268]],\n",
      "\n",
      "        [[0.3464, 0.9859, 0.7896, 0.7841, 0.2598],\n",
      "         [0.8430, 0.8901, 0.1667, 0.5118, 0.6922],\n",
      "         [0.6884, 0.6931, 0.1861, 0.1306, 0.7895]],\n",
      "\n",
      "        [[0.2630, 0.6439, 0.7696, 0.2241, 0.3376],\n",
      "         [0.0169, 0.1989, 0.4707, 0.9131, 0.6237],\n",
      "         [0.8920, 0.9902, 0.4731, 0.3399, 0.5920]]], dtype=torch.float64) \n",
      "\n"
     ]
    }
   ],
   "source": [
    "data=torch.randn(4,3,5)\n",
    "print(f'Data: \\n {data} \\n')\n",
    "x_ones=torch.ones_like(data)\n",
    "print(f'Ones Tensor: \\n {x_ones} \\n')\n",
    "x_rand=torch.rand_like(data,dtype=torch.float64)\n",
    "print(f'Random Tensor: \\n {x_rand} \\n')"
   ]
  },
  {
   "cell_type": "code",
   "execution_count": 202,
   "metadata": {},
   "outputs": [
    {
     "name": "stdout",
     "output_type": "stream",
     "text": [
      "Shape of tensor: tensor([[[0.4591, 0.8536, 0.3337, 0.6767, 0.8821, 0.5230],\n",
      "         [0.7261, 0.7132, 0.8220, 0.6606, 0.5138, 0.6277],\n",
      "         [0.6659, 0.3352, 0.9578, 0.4962, 0.0725, 0.6393],\n",
      "         [0.1333, 0.3433, 0.3958, 0.6955, 0.4802, 0.2870],\n",
      "         [0.5846, 0.2802, 0.5664, 0.9211, 0.0534, 0.4296]],\n",
      "\n",
      "        [[0.1146, 0.7673, 0.4533, 0.7450, 0.7870, 0.2404],\n",
      "         [0.3581, 0.9176, 0.4845, 0.6833, 0.1131, 0.1772],\n",
      "         [0.5621, 0.7143, 0.3245, 0.0961, 0.8971, 0.3188],\n",
      "         [0.0025, 0.3387, 0.1426, 0.4436, 0.9553, 0.1381],\n",
      "         [0.7228, 0.5586, 0.2418, 0.3508, 0.8770, 0.2978]],\n",
      "\n",
      "        [[0.6888, 0.0199, 0.6887, 0.7454, 0.5670, 0.2069],\n",
      "         [0.3060, 0.7802, 0.9045, 0.1903, 0.2153, 0.5341],\n",
      "         [0.0520, 0.8219, 0.0827, 0.6133, 0.1401, 0.6809],\n",
      "         [0.7905, 0.2093, 0.0709, 0.1610, 0.0412, 0.6966],\n",
      "         [0.9120, 0.7169, 0.0291, 0.4841, 0.4698, 0.3715]]])\n",
      "Datatype of tensor: torch.float32\n",
      "Device tensor is stored on: cpu\n",
      "Layout of tensor: torch.strided\n",
      "Tensor shape: torch.Size([3, 5, 6])\n",
      "Tensor ndim: 3\n"
     ]
    }
   ],
   "source": [
    "#Tensor attributes\n",
    "shape=(3,5,6)\n",
    "tensor=torch.rand(shape,dtype=torch.float32)\n",
    "print(f'Shape of tensor: {tensor}')\n",
    "\n",
    "print(f'Datatype of tensor: {tensor.dtype}')\n",
    "print(f'Device tensor is stored on: {tensor.device}')\n",
    "print(f'Layout of tensor: {tensor.layout}') \n",
    "print(f'Tensor shape: {tensor.shape}')\n",
    "print(f'Tensor ndim: {tensor.ndim}')"
   ]
  },
  {
   "cell_type": "code",
   "execution_count": 203,
   "metadata": {},
   "outputs": [
    {
     "name": "stdout",
     "output_type": "stream",
     "text": [
      "Tensor is now on mps:0\n",
      "Temsor is now on mps:0\n"
     ]
    }
   ],
   "source": [
    "#Tensor Operations\n",
    "#Moving to accelerator\n",
    "\n",
    "if torch.accelerator.is_available():\n",
    "    tensor=tensor.to(torch.accelerator.current_accelerator())\n",
    "    print(f'Tensor is now on {tensor.device}')\n",
    "\n",
    "if torch.backends.mps.is_available():\n",
    "    tensor=tensor.to('mps')\n",
    "    print(f'Temsor is now on {tensor.device}')\n",
    "\n"
   ]
  },
  {
   "cell_type": "code",
   "execution_count": 204,
   "metadata": {},
   "outputs": [
    {
     "name": "stdout",
     "output_type": "stream",
     "text": [
      "tensor([[1., 1., 1., 1.],\n",
      "        [1., 1., 1., 1.],\n",
      "        [1., 1., 1., 1.],\n",
      "        [1., 1., 1., 1.]])\n",
      "First row: tensor([1., 1., 1., 1.])\n",
      "First column: tensor([1., 1., 1., 1.])\n",
      "Last column: tensor([1., 1., 1., 1.])\n",
      "tensor([[1., 0., 1., 1.],\n",
      "        [1., 0., 1., 1.],\n",
      "        [1., 0., 1., 1.],\n",
      "        [1., 0., 1., 1.]])\n",
      "tensor([[1., 0., 1., 1., 1., 0., 1., 1., 1., 0., 1., 1.],\n",
      "        [1., 0., 1., 1., 1., 0., 1., 1., 1., 0., 1., 1.],\n",
      "        [1., 0., 1., 1., 1., 0., 1., 1., 1., 0., 1., 1.],\n",
      "        [1., 0., 1., 1., 1., 0., 1., 1., 1., 0., 1., 1.]])\n"
     ]
    }
   ],
   "source": [
    "tensor=torch.ones(4,4)\n",
    "print(tensor)\n",
    "print(f'First row: {tensor[0]}') \n",
    "print(f'First column: {tensor[:,0]}')\n",
    "print(f'Last column: {tensor[...,-1]}')\n",
    "tensor[:,1]=0\n",
    "print(tensor)\n",
    "\n",
    "t1=torch.cat([tensor,tensor,tensor],dim=1)\n",
    "print(t1)"
   ]
  },
  {
   "cell_type": "code",
   "execution_count": 205,
   "metadata": {},
   "outputs": [
    {
     "name": "stdout",
     "output_type": "stream",
     "text": [
      "tensor([[3., 3., 3., 3.],\n",
      "        [3., 3., 3., 3.],\n",
      "        [3., 3., 3., 3.],\n",
      "        [3., 3., 3., 3.]])\n",
      "tensor([[1., 0., 1., 1.],\n",
      "        [1., 0., 1., 1.],\n",
      "        [1., 0., 1., 1.],\n",
      "        [1., 0., 1., 1.]])\n"
     ]
    }
   ],
   "source": [
    "#Arithmetic operations\n",
    "#Matrix multiplication\n",
    "y1=tensor @ tensor.T\n",
    "y2=tensor.matmul(tensor.T)  \n",
    "y3=torch.rand_like(tensor)\n",
    "torch.matmul(tensor,tensor.T,out=y3)\n",
    "print(y1)\n",
    "z1=tensor*tensor\n",
    "z2=tensor.mul(tensor)\n",
    "z3=torch.rand_like(tensor)\n",
    "torch.mul(tensor,tensor,out=z3)\n",
    "print(z1)"
   ]
  },
  {
   "cell_type": "code",
   "execution_count": 206,
   "metadata": {},
   "outputs": [],
   "source": [
    "training_data=datasets.FashionMNIST(root='data',train=True,download=True,transform=transforms.ToTensor())\n",
    "test_data=datasets.FashionMNIST(root='data',train=False,download=True,transform=transforms.ToTensor())\n"
   ]
  },
  {
   "cell_type": "code",
   "execution_count": 207,
   "metadata": {},
   "outputs": [],
   "source": [
    "#Iterating and visulizing the datastes\n",
    "labels_map={\n",
    "    0:\"T-shirts\",\n",
    "    1:\"Trousers\",\n",
    "    2:\"Pullover\",\n",
    "    3:\"Dress\",\n",
    "    4:\"Coat\",\n",
    "    5:\"Sandals\",\n",
    "    6:\"Shirt\",\n",
    "    7:\"Sneaker\",\n",
    "    8: \"Bag\",\n",
    "    9: \"Ankle Boot\",\n",
    "    }\n",
    "    \n"
   ]
  },
  {
   "cell_type": "code",
   "execution_count": 208,
   "metadata": {},
   "outputs": [
    {
     "data": {
      "image/png": "[encoded data removed]",
      "text/plain": [
       "<Figure size 900x800 with 9 Axes>"
      ]
     },
     "metadata": {},
     "output_type": "display_data"
    }
   ],
   "source": [
    "figure=plt.figure(figsize=(9,8))\n",
    "cols,rows=3,3\n",
    "for i in range(1,cols*rows+1):\n",
    "    sample_idx=torch.randint(len(training_data),size=(1,)).item()\n",
    "    img, label=training_data[sample_idx]\n",
    "    figure.add_subplot(rows,cols, i)\n",
    "    plt.title(labels_map)\n",
    "    plt.axis(\"off\")\n",
    "    plt.imshow(img.squeeze(),cmap=\"gray\")\n",
    "plt.show()"
   ]
  },
  {
   "cell_type": "code",
   "execution_count": 209,
   "metadata": {},
   "outputs": [],
   "source": [
    "#Using dataloader\n",
    "transformm=transforms.Compose([transforms.ToTensor(),transforms.Normalize((0.5,),(0.5,))])\n"
   ]
  },
  {
   "cell_type": "code",
   "execution_count": 210,
   "metadata": {},
   "outputs": [
    {
     "name": "stdout",
     "output_type": "stream",
     "text": [
      "Forcing CPU usage for all operations\n"
     ]
    }
   ],
   "source": [
    "device = torch.device(\"cpu\")\n",
    "print(f\"Forcing CPU usage for all operations\")"
   ]
  },
  {
   "cell_type": "code",
   "execution_count": 211,
   "metadata": {},
   "outputs": [],
   "source": [
    "from torch.utils.data import DataLoader"
   ]
  },
  {
   "cell_type": "code",
   "execution_count": 212,
   "metadata": {},
   "outputs": [],
   "source": [
    "batch_size=64\n",
    "train_loader=DataLoader(dataset=training_data,batch_size=batch_size,shuffle=True)\n",
    "test_loader=DataLoader(dataset=test_data,batch_size=batch_size,shuffle=False)\n",
    "\n",
    "\n"
   ]
  },
  {
   "cell_type": "code",
   "execution_count": 213,
   "metadata": {},
   "outputs": [
    {
     "data": {
      "image/png": "[encoded data removed]",
      "text/plain": [
       "<Figure size 1200x800 with 6 Axes>"
      ]
     },
     "metadata": {},
     "output_type": "display_data"
    }
   ],
   "source": [
    "#Visulizing the data\n",
    "data_iter=iter(train_loader)\n",
    "images, labels=next(data_iter)\n",
    "\n",
    "#Plot first six iamges\n",
    "fig, axes=plt.subplots(2,3,figsize=(12,8))\n",
    "for i, ax in enumerate(axes.flat):\n",
    "    ax.imshow(images[i].squeeze(),cmap='gray')\n",
    "    ax.axis('off')\n",
    "    ax.set_title(f'label: {labels[i].item()}')\n",
    "plt.show()\n"
   ]
  },
  {
   "cell_type": "code",
   "execution_count": 214,
   "metadata": {},
   "outputs": [
    {
     "name": "stdout",
     "output_type": "stream",
     "text": [
      "cpu\n"
     ]
    }
   ],
   "source": [
    "#Defining the CNN\n",
    "\n",
    "print(device)\n",
    "class CNN(nn.Module):\n",
    "    def __init__(self):\n",
    "        super(CNN,self).__init__()\n",
    "        # 1 input channel,32 filerts, 3x3 kernal, padding=1, stride=1\n",
    "        self.conv1=nn.Conv2d(in_channels=1,out_channels=32,kernel_size=3,padding=1,stride=1)\n",
    "        self.conv2=nn.Conv2d(in_channels=32,out_channels=64,kernel_size=3,padding=1)\n",
    "        self.conv3=nn.Conv2d(in_channels=64,out_channels=128,kernel_size=3,padding=1)\n",
    "        self.pool=nn.MaxPool2d(kernel_size=2,stride=2)# for 2x2 max pool\n",
    "       \n",
    "        # Calculate the correct flattened size\n",
    "        # Input is 28x28, after 3 convs and 1 pooling: 128 x 14 x 14\n",
    "        self.fc1 = nn.Linear(128 * 14 * 14, 128)\n",
    "        self.fc2 = nn.Linear(128, 10)\n",
    "       \n",
    "\n",
    "    def forward(self,x):\n",
    "        x=torch.relu(self.conv1(x))\n",
    "        x=torch.relu(self.conv2(x))\n",
    "        x=self.pool(torch.relu(self.conv3(x)))\n",
    "        x = x.view(-1, 128 * 14 * 14)#FLatenning the feature maps\n",
    "        x=torch.relu(self.fc1(x))#Fully c layer with Relu\n",
    "        x=self.fc2(x)\n",
    "        return x\n",
    "        \n",
    "model=CNN()\n",
    "              "
   ]
  },
  {
   "cell_type": "code",
   "execution_count": 215,
   "metadata": {},
   "outputs": [],
   "source": [
    "criterion=nn.CrossEntropyLoss()\n",
    "optimizer=optim.Adam(model.parameters(),lr=0.001)"
   ]
  },
  {
   "cell_type": "code",
   "execution_count": 216,
   "metadata": {},
   "outputs": [
    {
     "name": "stdout",
     "output_type": "stream",
     "text": [
      "Images device: cpu, dtype: torch.float32\n",
      "Model first layer device: cpu, dtype: torch.float32\n",
      "Epoch [1/100], Loss: 0.3769\n",
      "Epoch [2/100], Loss: 0.2165\n",
      "Epoch [3/100], Loss: 0.1661\n",
      "Epoch [4/100], Loss: 0.1246\n",
      "Epoch [5/100], Loss: 0.0882\n",
      "Epoch [6/100], Loss: 0.0614\n",
      "Epoch [7/100], Loss: 0.0448\n",
      "Epoch [8/100], Loss: 0.0332\n",
      "Epoch [9/100], Loss: 0.0248\n",
      "Epoch [10/100], Loss: 0.0248\n",
      "Epoch [11/100], Loss: 0.0200\n",
      "Epoch [12/100], Loss: 0.0165\n",
      "Epoch [13/100], Loss: 0.0133\n",
      "Epoch [14/100], Loss: 0.0156\n",
      "Epoch [15/100], Loss: 0.0135\n",
      "Epoch [16/100], Loss: 0.0144\n",
      "Epoch [17/100], Loss: 0.0103\n",
      "Epoch [18/100], Loss: 0.0129\n",
      "Epoch [19/100], Loss: 0.0094\n",
      "Epoch [20/100], Loss: 0.0101\n",
      "Epoch [21/100], Loss: 0.0083\n",
      "Epoch [22/100], Loss: 0.0160\n",
      "Epoch [23/100], Loss: 0.0079\n",
      "Epoch [24/100], Loss: 0.0100\n",
      "Epoch [25/100], Loss: 0.0071\n",
      "Epoch [26/100], Loss: 0.0075\n",
      "Epoch [27/100], Loss: 0.0112\n",
      "Epoch [28/100], Loss: 0.0052\n",
      "Epoch [29/100], Loss: 0.0072\n",
      "Epoch [30/100], Loss: 0.0085\n",
      "Epoch [31/100], Loss: 0.0080\n",
      "Epoch [32/100], Loss: 0.0094\n",
      "Epoch [33/100], Loss: 0.0073\n",
      "Epoch [34/100], Loss: 0.0068\n",
      "Epoch [35/100], Loss: 0.0085\n",
      "Epoch [36/100], Loss: 0.0071\n",
      "Epoch [37/100], Loss: 0.0083\n",
      "Epoch [38/100], Loss: 0.0058\n",
      "Epoch [39/100], Loss: 0.0072\n",
      "Epoch [40/100], Loss: 0.0061\n",
      "Epoch [41/100], Loss: 0.0084\n",
      "Epoch [42/100], Loss: 0.0040\n",
      "Epoch [43/100], Loss: 0.0107\n",
      "Epoch [44/100], Loss: 0.0054\n",
      "Epoch [45/100], Loss: 0.0097\n",
      "Epoch [46/100], Loss: 0.0018\n",
      "Epoch [47/100], Loss: 0.0087\n",
      "Epoch [48/100], Loss: 0.0057\n",
      "Epoch [49/100], Loss: 0.0052\n",
      "Epoch [50/100], Loss: 0.0068\n",
      "Epoch [51/100], Loss: 0.0066\n",
      "Epoch [52/100], Loss: 0.0055\n",
      "Epoch [53/100], Loss: 0.0031\n",
      "Epoch [54/100], Loss: 0.0075\n",
      "Epoch [55/100], Loss: 0.0052\n",
      "Epoch [56/100], Loss: 0.0056\n",
      "Epoch [57/100], Loss: 0.0037\n",
      "Epoch [58/100], Loss: 0.0083\n",
      "Epoch [59/100], Loss: 0.0077\n",
      "Epoch [60/100], Loss: 0.0042\n",
      "Epoch [61/100], Loss: 0.0044\n",
      "Epoch [62/100], Loss: 0.0069\n",
      "Epoch [63/100], Loss: 0.0033\n",
      "Epoch [64/100], Loss: 0.0059\n",
      "Epoch [65/100], Loss: 0.0063\n",
      "Epoch [66/100], Loss: 0.0051\n",
      "Epoch [67/100], Loss: 0.0048\n",
      "Epoch [68/100], Loss: 0.0060\n",
      "Epoch [69/100], Loss: 0.0051\n",
      "Epoch [70/100], Loss: 0.0036\n",
      "Epoch [71/100], Loss: 0.0069\n",
      "Epoch [72/100], Loss: 0.0034\n",
      "Epoch [73/100], Loss: 0.0076\n",
      "Epoch [74/100], Loss: 0.0053\n",
      "Epoch [75/100], Loss: 0.0026\n",
      "Epoch [76/100], Loss: 0.0063\n",
      "Epoch [77/100], Loss: 0.0066\n",
      "Epoch [78/100], Loss: 0.0069\n",
      "Epoch [79/100], Loss: 0.0041\n",
      "Epoch [80/100], Loss: 0.0053\n",
      "Epoch [81/100], Loss: 0.0061\n",
      "Epoch [82/100], Loss: 0.0059\n",
      "Epoch [83/100], Loss: 0.0049\n",
      "Epoch [84/100], Loss: 0.0064\n",
      "Epoch [85/100], Loss: 0.0061\n",
      "Epoch [86/100], Loss: 0.0048\n",
      "Epoch [87/100], Loss: 0.0039\n",
      "Epoch [88/100], Loss: 0.0027\n",
      "Epoch [89/100], Loss: 0.0105\n",
      "Epoch [90/100], Loss: 0.0061\n",
      "Epoch [91/100], Loss: 0.0044\n",
      "Epoch [92/100], Loss: 0.0042\n",
      "Epoch [93/100], Loss: 0.0068\n",
      "Epoch [94/100], Loss: 0.0073\n",
      "Epoch [95/100], Loss: 0.0076\n",
      "Epoch [96/100], Loss: 0.0031\n",
      "Epoch [97/100], Loss: 0.0079\n",
      "Epoch [98/100], Loss: 0.0070\n",
      "Epoch [99/100], Loss: 0.0043\n",
      "Epoch [100/100], Loss: 0.0028\n"
     ]
    }
   ],
   "source": [
    "# Training the model\n",
    "n_epochs = 100 # Reduced from 100 for testing\n",
    "\n",
    "for epoch in range(n_epochs):\n",
    "    model.train()\n",
    "    total_loss = 0\n",
    "    for images, labels in train_loader:\n",
    "        #\n",
    "        images, labels = images.to(device,dtype=torch.float32), labels.to(device)\n",
    "        \n",
    "        \n",
    "        # Debug info for first batch of first epoch\n",
    "        if epoch == 0 and total_loss == 0:\n",
    "            print(f\"Images device: {images.device}, dtype: {images.dtype}\")\n",
    "            print(f\"Model first layer device: {next(model.parameters()).device}, dtype: {next(model.parameters()).dtype}\")\n",
    "        \n",
    "        # Forward pass\n",
    "        outputs = model(images)\n",
    "        loss = criterion(outputs, labels)\n",
    "\n",
    "        # Backprop\n",
    "        optimizer.zero_grad()\n",
    "        loss.backward()\n",
    "        optimizer.step()\n",
    "        total_loss += loss.item()\n",
    "    \n",
    "    # Print after each epoch\n",
    "    print(f\"Epoch [{epoch+1}/{n_epochs}], Loss: {total_loss/len(train_loader):.4f}\")"
   ]
  },
  {
   "cell_type": "code",
   "execution_count": 217,
   "metadata": {},
   "outputs": [
    {
     "name": "stdout",
     "output_type": "stream",
     "text": [
      "Accuracy: 92.38%\n"
     ]
    }
   ],
   "source": [
    "#tetsing loop\n",
    "\n",
    "correct=0\n",
    "total=0\n",
    "\n",
    "with torch.no_grad():\n",
    "    for images, labels in test_loader:\n",
    "        images, labels=images.to(device),labels.to(device)\n",
    "        outputs=model(images)\n",
    "        _, predicted=torch.max(outputs.data,1)\n",
    "        total+=labels.size(0)\n",
    "        correct+=(predicted==labels).sum().item()\n",
    "accuracy=100*correct/total\n",
    "print(f'Accuracy: {accuracy}%')\n"
   ]
  }
 ],
 "metadata": {
  "kernelspec": {
   "display_name": "MAM1",
   "language": "python",
   "name": "python3"
  },
  "language_info": {
   "codemirror_mode": {
    "name": "ipython",
    "version": 3
   },
   "file_extension": ".py",
   "mimetype": "text/x-python",
   "name": "python",
   "nbconvert_exporter": "python",
   "pygments_lexer": "ipython3",
   "version": "3.12.4"
  }
 },
 "nbformat": 4,
 "nbformat_minor": 2
}
